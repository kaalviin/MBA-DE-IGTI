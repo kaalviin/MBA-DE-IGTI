{
 "cells": [
  {
   "cell_type": "code",
   "execution_count": 8,
   "metadata": {},
   "outputs": [
    {
     "data": {
      "application/vnd.jupyter.widget-view+json": {
       "model_id": "3d24b9581fac4d5dac11e967cd87fd11",
       "version_major": 2,
       "version_minor": 0
      },
      "text/plain": [
       "VBox()"
      ]
     },
     "metadata": {},
     "output_type": "display_data"
    },
    {
     "data": {
      "application/vnd.jupyter.widget-view+json": {
       "model_id": "",
       "version_major": 2,
       "version_minor": 0
      },
      "text/plain": [
       "FloatProgress(value=0.0, bar_style='info', description='Progress:', layout=Layout(height='25px', width='50%'),…"
      ]
     },
     "metadata": {},
     "output_type": "display_data"
    }
   ],
   "source": [
    "import pyspark "
   ]
  },
  {
   "cell_type": "code",
   "execution_count": 2,
   "metadata": {},
   "outputs": [
    {
     "data": {
      "application/vnd.jupyter.widget-view+json": {
       "model_id": "116c087525224bc98378a043b9d64e4c",
       "version_major": 2,
       "version_minor": 0
      },
      "text/plain": [
       "VBox()"
      ]
     },
     "metadata": {},
     "output_type": "display_data"
    },
    {
     "data": {
      "application/vnd.jupyter.widget-view+json": {
       "model_id": "",
       "version_major": 2,
       "version_minor": 0
      },
      "text/plain": [
       "FloatProgress(value=0.0, bar_style='info', description='Progress:', layout=Layout(height='25px', width='50%'),…"
      ]
     },
     "metadata": {},
     "output_type": "display_data"
    }
   ],
   "source": [
    "enem=(\n",
    "    spark\n",
    "    .read\n",
    "    .format('csv')\n",
    "    .option(\"header\",True)\n",
    "    .option(\"inferSchema\",True)\n",
    "    .option(\"delimiter\",\";\")\n",
    "    .load(\"s3://igti-mba-de/raw-data/\")\n",
    ")"
   ]
  },
  {
   "cell_type": "code",
   "execution_count": 4,
   "metadata": {},
   "outputs": [
    {
     "data": {
      "application/vnd.jupyter.widget-view+json": {
       "model_id": "6230b400e6614950911fc89faad5f553",
       "version_major": 2,
       "version_minor": 0
      },
      "text/plain": [
       "VBox()"
      ]
     },
     "metadata": {},
     "output_type": "display_data"
    },
    {
     "data": {
      "application/vnd.jupyter.widget-view+json": {
       "model_id": "",
       "version_major": 2,
       "version_minor": 0
      },
      "text/plain": [
       "FloatProgress(value=0.0, bar_style='info', description='Progress:', layout=Layout(height='25px', width='50%'),…"
      ]
     },
     "metadata": {},
     "output_type": "display_data"
    },
    {
     "name": "stdout",
     "output_type": "stream",
     "text": [
      "root\n",
      " |-- NU_INSCRICAO: long (nullable = true)\n",
      " |-- NU_ANO: integer (nullable = true)\n",
      " |-- CO_MUNICIPIO_RESIDENCIA: integer (nullable = true)\n",
      " |-- NO_MUNICIPIO_RESIDENCIA: string (nullable = true)\n",
      " |-- CO_UF_RESIDENCIA: integer (nullable = true)\n",
      " |-- SG_UF_RESIDENCIA: string (nullable = true)\n",
      " |-- NU_IDADE: integer (nullable = true)\n",
      " |-- TP_SEXO: string (nullable = true)\n",
      " |-- TP_ESTADO_CIVIL: integer (nullable = true)\n",
      " |-- TP_COR_RACA: integer (nullable = true)\n",
      " |-- TP_NACIONALIDADE: integer (nullable = true)\n",
      " |-- CO_MUNICIPIO_NASCIMENTO: integer (nullable = true)\n",
      " |-- NO_MUNICIPIO_NASCIMENTO: string (nullable = true)\n",
      " |-- CO_UF_NASCIMENTO: integer (nullable = true)\n",
      " |-- SG_UF_NASCIMENTO: string (nullable = true)\n",
      " |-- TP_ST_CONCLUSAO: integer (nullable = true)\n",
      " |-- TP_ANO_CONCLUIU: integer (nullable = true)\n",
      " |-- TP_ESCOLA: integer (nullable = true)\n",
      " |-- TP_ENSINO: integer (nullable = true)\n",
      " |-- IN_TREINEIRO: integer (nullable = true)\n",
      " |-- CO_ESCOLA: integer (nullable = true)\n",
      " |-- CO_MUNICIPIO_ESC: integer (nullable = true)\n",
      " |-- NO_MUNICIPIO_ESC: string (nullable = true)\n",
      " |-- CO_UF_ESC: integer (nullable = true)\n",
      " |-- SG_UF_ESC: string (nullable = true)\n",
      " |-- TP_DEPENDENCIA_ADM_ESC: integer (nullable = true)\n",
      " |-- TP_LOCALIZACAO_ESC: integer (nullable = true)\n",
      " |-- TP_SIT_FUNC_ESC: integer (nullable = true)\n",
      " |-- IN_BAIXA_VISAO: integer (nullable = true)\n",
      " |-- IN_CEGUEIRA: integer (nullable = true)\n",
      " |-- IN_SURDEZ: integer (nullable = true)\n",
      " |-- IN_DEFICIENCIA_AUDITIVA: integer (nullable = true)\n",
      " |-- IN_SURDO_CEGUEIRA: integer (nullable = true)\n",
      " |-- IN_DEFICIENCIA_FISICA: integer (nullable = true)\n",
      " |-- IN_DEFICIENCIA_MENTAL: integer (nullable = true)\n",
      " |-- IN_DEFICIT_ATENCAO: integer (nullable = true)\n",
      " |-- IN_DISLEXIA: integer (nullable = true)\n",
      " |-- IN_DISCALCULIA: integer (nullable = true)\n",
      " |-- IN_AUTISMO: integer (nullable = true)\n",
      " |-- IN_VISAO_MONOCULAR: integer (nullable = true)\n",
      " |-- IN_OUTRA_DEF: integer (nullable = true)\n",
      " |-- IN_GESTANTE: integer (nullable = true)\n",
      " |-- IN_LACTANTE: integer (nullable = true)\n",
      " |-- IN_IDOSO: integer (nullable = true)\n",
      " |-- IN_ESTUDA_CLASSE_HOSPITALAR: integer (nullable = true)\n",
      " |-- IN_SEM_RECURSO: integer (nullable = true)\n",
      " |-- IN_BRAILLE: integer (nullable = true)\n",
      " |-- IN_AMPLIADA_24: integer (nullable = true)\n",
      " |-- IN_AMPLIADA_18: integer (nullable = true)\n",
      " |-- IN_LEDOR: integer (nullable = true)\n",
      " |-- IN_ACESSO: integer (nullable = true)\n",
      " |-- IN_TRANSCRICAO: integer (nullable = true)\n",
      " |-- IN_LIBRAS: integer (nullable = true)\n",
      " |-- IN_TEMPO_ADICIONAL: integer (nullable = true)\n",
      " |-- IN_LEITURA_LABIAL: integer (nullable = true)\n",
      " |-- IN_MESA_CADEIRA_RODAS: integer (nullable = true)\n",
      " |-- IN_MESA_CADEIRA_SEPARADA: integer (nullable = true)\n",
      " |-- IN_APOIO_PERNA: integer (nullable = true)\n",
      " |-- IN_GUIA_INTERPRETE: integer (nullable = true)\n",
      " |-- IN_COMPUTADOR: integer (nullable = true)\n",
      " |-- IN_CADEIRA_ESPECIAL: integer (nullable = true)\n",
      " |-- IN_CADEIRA_CANHOTO: integer (nullable = true)\n",
      " |-- IN_CADEIRA_ACOLCHOADA: integer (nullable = true)\n",
      " |-- IN_PROVA_DEITADO: integer (nullable = true)\n",
      " |-- IN_MOBILIARIO_OBESO: integer (nullable = true)\n",
      " |-- IN_LAMINA_OVERLAY: integer (nullable = true)\n",
      " |-- IN_PROTETOR_AURICULAR: integer (nullable = true)\n",
      " |-- IN_MEDIDOR_GLICOSE: integer (nullable = true)\n",
      " |-- IN_MAQUINA_BRAILE: integer (nullable = true)\n",
      " |-- IN_SOROBAN: integer (nullable = true)\n",
      " |-- IN_MARCA_PASSO: integer (nullable = true)\n",
      " |-- IN_SONDA: integer (nullable = true)\n",
      " |-- IN_MEDICAMENTOS: integer (nullable = true)\n",
      " |-- IN_SALA_INDIVIDUAL: integer (nullable = true)\n",
      " |-- IN_SALA_ESPECIAL: integer (nullable = true)\n",
      " |-- IN_SALA_ACOMPANHANTE: integer (nullable = true)\n",
      " |-- IN_MOBILIARIO_ESPECIFICO: integer (nullable = true)\n",
      " |-- IN_MATERIAL_ESPECIFICO: integer (nullable = true)\n",
      " |-- IN_NOME_SOCIAL: integer (nullable = true)\n",
      " |-- CO_MUNICIPIO_PROVA: integer (nullable = true)\n",
      " |-- NO_MUNICIPIO_PROVA: string (nullable = true)\n",
      " |-- CO_UF_PROVA: integer (nullable = true)\n",
      " |-- SG_UF_PROVA: string (nullable = true)\n",
      " |-- TP_PRESENCA_CN: integer (nullable = true)\n",
      " |-- TP_PRESENCA_CH: integer (nullable = true)\n",
      " |-- TP_PRESENCA_LC: integer (nullable = true)\n",
      " |-- TP_PRESENCA_MT: integer (nullable = true)\n",
      " |-- CO_PROVA_CN: integer (nullable = true)\n",
      " |-- CO_PROVA_CH: integer (nullable = true)\n",
      " |-- CO_PROVA_LC: integer (nullable = true)\n",
      " |-- CO_PROVA_MT: integer (nullable = true)\n",
      " |-- NU_NOTA_CN: double (nullable = true)\n",
      " |-- NU_NOTA_CH: double (nullable = true)\n",
      " |-- NU_NOTA_LC: double (nullable = true)\n",
      " |-- NU_NOTA_MT: double (nullable = true)\n",
      " |-- TX_RESPOSTAS_CN: string (nullable = true)\n",
      " |-- TX_RESPOSTAS_CH: string (nullable = true)\n",
      " |-- TX_RESPOSTAS_LC: string (nullable = true)\n",
      " |-- TX_RESPOSTAS_MT: string (nullable = true)\n",
      " |-- TP_LINGUA: integer (nullable = true)\n",
      " |-- TX_GABARITO_CN: string (nullable = true)\n",
      " |-- TX_GABARITO_CH: string (nullable = true)\n",
      " |-- TX_GABARITO_LC: string (nullable = true)\n",
      " |-- TX_GABARITO_MT: string (nullable = true)\n",
      " |-- TP_STATUS_REDACAO: integer (nullable = true)\n",
      " |-- NU_NOTA_COMP1: integer (nullable = true)\n",
      " |-- NU_NOTA_COMP2: integer (nullable = true)\n",
      " |-- NU_NOTA_COMP3: integer (nullable = true)\n",
      " |-- NU_NOTA_COMP4: integer (nullable = true)\n",
      " |-- NU_NOTA_COMP5: integer (nullable = true)\n",
      " |-- NU_NOTA_REDACAO: integer (nullable = true)\n",
      " |-- Q001: string (nullable = true)\n",
      " |-- Q002: string (nullable = true)\n",
      " |-- Q003: string (nullable = true)\n",
      " |-- Q004: string (nullable = true)\n",
      " |-- Q005: integer (nullable = true)\n",
      " |-- Q006: string (nullable = true)\n",
      " |-- Q007: string (nullable = true)\n",
      " |-- Q008: string (nullable = true)\n",
      " |-- Q009: string (nullable = true)\n",
      " |-- Q010: string (nullable = true)\n",
      " |-- Q011: string (nullable = true)\n",
      " |-- Q012: string (nullable = true)\n",
      " |-- Q013: string (nullable = true)\n",
      " |-- Q014: string (nullable = true)\n",
      " |-- Q015: string (nullable = true)\n",
      " |-- Q016: string (nullable = true)\n",
      " |-- Q017: string (nullable = true)\n",
      " |-- Q018: string (nullable = true)\n",
      " |-- Q019: string (nullable = true)\n",
      " |-- Q020: string (nullable = true)\n",
      " |-- Q021: string (nullable = true)\n",
      " |-- Q022: string (nullable = true)\n",
      " |-- Q023: string (nullable = true)\n",
      " |-- Q024: string (nullable = true)\n",
      " |-- Q025: string (nullable = true)"
     ]
    }
   ],
   "source": [
    "enem.printSchema()"
   ]
  },
  {
   "cell_type": "code",
   "execution_count": 10,
   "metadata": {},
   "outputs": [
    {
     "data": {
      "application/vnd.jupyter.widget-view+json": {
       "model_id": "0c2c2825dee8437abeabbde63ad1fec9",
       "version_major": 2,
       "version_minor": 0
      },
      "text/plain": [
       "VBox()"
      ]
     },
     "metadata": {},
     "output_type": "display_data"
    },
    {
     "data": {
      "application/vnd.jupyter.widget-view+json": {
       "model_id": "",
       "version_major": 2,
       "version_minor": 0
      },
      "text/plain": [
       "FloatProgress(value=0.0, bar_style='info', description='Progress:', layout=Layout(height='25px', width='50%'),…"
      ]
     },
     "metadata": {},
     "output_type": "display_data"
    },
    {
     "name": "stdout",
     "output_type": "stream",
     "text": [
      "+-------+-----------------+\n",
      "|TP_SEXO|  avg(NU_NOTA_MT)|\n",
      "+-------+-----------------+\n",
      "|      M|547.9751098893437|\n",
      "|      F| 506.167126424273|\n",
      "+-------+-----------------+"
     ]
    }
   ],
   "source": [
    "#QUESTÃO 6\n",
    "enem.groupBy(\"TP_SEXO\").agg({\"NU_NOTA_MT\":\"avg\"}).show()"
   ]
  },
  {
   "cell_type": "code",
   "execution_count": 19,
   "metadata": {},
   "outputs": [
    {
     "data": {
      "application/vnd.jupyter.widget-view+json": {
       "model_id": "9c87ea062cf14a6c88a642c418912c2c",
       "version_major": 2,
       "version_minor": 0
      },
      "text/plain": [
       "VBox()"
      ]
     },
     "metadata": {},
     "output_type": "display_data"
    },
    {
     "data": {
      "application/vnd.jupyter.widget-view+json": {
       "model_id": "",
       "version_major": 2,
       "version_minor": 0
      },
      "text/plain": [
       "FloatProgress(value=0.0, bar_style='info', description='Progress:', layout=Layout(height='25px', width='50%'),…"
      ]
     },
     "metadata": {},
     "output_type": "display_data"
    },
    {
     "name": "stdout",
     "output_type": "stream",
     "text": [
      "+----------------+-------+-----------------+\n",
      "|SG_UF_RESIDENCIA|TP_SEXO|  avg(NU_NOTA_CH)|\n",
      "+----------------+-------+-----------------+\n",
      "|              SP|      M|535.2805391773538|\n",
      "|              SP|      F|522.5320961398797|\n",
      "+----------------+-------+-----------------+"
     ]
    }
   ],
   "source": [
    "#QUESTÃO 7\n",
    "enem.groupBy([\"SG_UF_RESIDENCIA\",\"TP_SEXO\"])\\\n",
    ".agg({\"NU_NOTA_CH\":\"avg\"})\\\n",
    ".where(enem.SG_UF_RESIDENCIA == \"SP\")\\\n",
    ".show()"
   ]
  },
  {
   "cell_type": "code",
   "execution_count": 26,
   "metadata": {},
   "outputs": [
    {
     "data": {
      "application/vnd.jupyter.widget-view+json": {
       "model_id": "278eb0d347ca4d7ebaf25008b21b9b98",
       "version_major": 2,
       "version_minor": 0
      },
      "text/plain": [
       "VBox()"
      ]
     },
     "metadata": {},
     "output_type": "display_data"
    },
    {
     "data": {
      "application/vnd.jupyter.widget-view+json": {
       "model_id": "",
       "version_major": 2,
       "version_minor": 0
      },
      "text/plain": [
       "FloatProgress(value=0.0, bar_style='info', description='Progress:', layout=Layout(height='25px', width='50%'),…"
      ]
     },
     "metadata": {},
     "output_type": "display_data"
    },
    {
     "name": "stdout",
     "output_type": "stream",
     "text": [
      "+-----------------------+----------+\n",
      "|NO_MUNICIPIO_RESIDENCIA|NU_NOTA_CN|\n",
      "+-----------------------+----------+\n",
      "|                 Lorena|     860.9|\n",
      "|                Maring�|     860.9|\n",
      "|             Mogi Mirim|     853.5|\n",
      "|              S�o Paulo|     849.7|\n",
      "|                  Caic�|     847.8|\n",
      "|              S�o Paulo|     847.8|\n",
      "|               Teresina|     843.2|\n",
      "|           Pouso Alegre|     842.8|\n",
      "|              Fortaleza|     841.8|\n",
      "|                Goi�nia|     841.8|\n",
      "|               Salvador|     840.5|\n",
      "|                  Patos|     838.6|\n",
      "|                 Recife|     836.6|\n",
      "|              S�o Paulo|     834.3|\n",
      "|         Belo Horizonte|     833.3|\n",
      "|         Rio de Janeiro|     831.6|\n",
      "|              S�o Paulo|     831.6|\n",
      "|              Cariacica|     831.1|\n",
      "|              S�o Paulo|     830.1|\n",
      "|                Goi�nia|     829.4|\n",
      "+-----------------------+----------+\n",
      "only showing top 20 rows"
     ]
    }
   ],
   "source": [
    "#QUESTÃO 8\n",
    "enem.where((enem.NO_MUNICIPIO_RESIDENCIA==\"Ipatinga\") | (enem.NO_MUNICIPIO_RESIDENCIA==\"Governador Valadares\")\\\n",
    "           | (enem.NO_MUNICIPIO_RESIDENCIA==\"Montes Claros\") | (enem.NO_MUNICIPIO_RESIDENCIA==\"Ouro Preto\"))\\\n",
    "            .select(enem.NO_MUNICIPIO_RESIDENCIA,enem.NU_NOTA_CN).orderBy(enem.NU_NOTA_CN,ascending=False).show()"
   ]
  },
  {
   "cell_type": "code",
   "execution_count": 34,
   "metadata": {},
   "outputs": [
    {
     "data": {
      "application/vnd.jupyter.widget-view+json": {
       "model_id": "652e8933d0e643e0b9cfa3b0a42f6e91",
       "version_major": 2,
       "version_minor": 0
      },
      "text/plain": [
       "VBox()"
      ]
     },
     "metadata": {},
     "output_type": "display_data"
    },
    {
     "data": {
      "application/vnd.jupyter.widget-view+json": {
       "model_id": "",
       "version_major": 2,
       "version_minor": 0
      },
      "text/plain": [
       "FloatProgress(value=0.0, bar_style='info', description='Progress:', layout=Layout(height='25px', width='50%'),…"
      ]
     },
     "metadata": {},
     "output_type": "display_data"
    },
    {
     "name": "stdout",
     "output_type": "stream",
     "text": [
      "+-----------------------+------------------+\n",
      "|NO_MUNICIPIO_NASCIMENTO|     avg(NU_IDADE)|\n",
      "+-----------------------+------------------+\n",
      "|                  Natal|23.498853211009173|\n",
      "+-----------------------+------------------+"
     ]
    }
   ],
   "source": [
    "#QUESTÃO 9\n",
    "enem.where(enem.NO_MUNICIPIO_NASCIMENTO==\"Natal\")\\\n",
    ".groupBy(\"NO_MUNICIPIO_NASCIMENTO\")\\\n",
    ".agg({\"NU_IDADE\":\"avg\"})\\\n",
    ".show()"
   ]
  },
  {
   "cell_type": "code",
   "execution_count": 51,
   "metadata": {},
   "outputs": [
    {
     "data": {
      "application/vnd.jupyter.widget-view+json": {
       "model_id": "08718892e9ec4e80b7e1c03cd03153a2",
       "version_major": 2,
       "version_minor": 0
      },
      "text/plain": [
       "VBox()"
      ]
     },
     "metadata": {},
     "output_type": "display_data"
    },
    {
     "data": {
      "application/vnd.jupyter.widget-view+json": {
       "model_id": "",
       "version_major": 2,
       "version_minor": 0
      },
      "text/plain": [
       "FloatProgress(value=0.0, bar_style='info', description='Progress:', layout=Layout(height='25px', width='50%'),…"
      ]
     },
     "metadata": {},
     "output_type": "display_data"
    },
    {
     "name": "stdout",
     "output_type": "stream",
     "text": [
      "+---------+-----------------+\n",
      "|CO_ESCOLA|           MT_avg|\n",
      "+---------+-----------------+\n",
      "| 35100298|            962.9|\n",
      "| 50031783|            882.5|\n",
      "| 22142495|            873.5|\n",
      "| 31295345|            849.1|\n",
      "| 23246847|845.8857142857141|\n",
      "| 35567164|            843.4|\n",
      "| 35064476|            842.4|\n",
      "| 23246871|836.6484848484848|\n",
      "| 22025740|836.4686274509803|\n",
      "| 35399197|836.1132075471698|\n",
      "| 53017048|            835.5|\n",
      "| 31004812|830.4654929577463|\n",
      "| 35130175|            827.9|\n",
      "| 35154775|827.5272727272727|\n",
      "| 33181586|            825.7|\n",
      "| 31350664|823.8017857142858|\n",
      "| 35125878|            819.4|\n",
      "| 35144642|            818.9|\n",
      "| 31351725|817.7818181818182|\n",
      "| 53014162|            816.3|\n",
      "+---------+-----------------+\n",
      "only showing top 20 rows"
     ]
    }
   ],
   "source": [
    "#QUESTÃO 10 \n",
    "import pyspark.sql.functions as func\n",
    "enem.groupBy(\"CO_ESCOLA\")\\\n",
    ".agg(func.avg(\"NU_NOTA_MT\").alias(\"MT_avg\"))\\\n",
    ".orderBy(\"MT_avg\",ascending=False)\\\n",
    ".show()"
   ]
  },
  {
   "cell_type": "code",
   "execution_count": 59,
   "metadata": {},
   "outputs": [
    {
     "data": {
      "application/vnd.jupyter.widget-view+json": {
       "model_id": "a15c3166226a41cabebb3dbcb5f7ed21",
       "version_major": 2,
       "version_minor": 0
      },
      "text/plain": [
       "VBox()"
      ]
     },
     "metadata": {},
     "output_type": "display_data"
    },
    {
     "data": {
      "application/vnd.jupyter.widget-view+json": {
       "model_id": "",
       "version_major": 2,
       "version_minor": 0
      },
      "text/plain": [
       "FloatProgress(value=0.0, bar_style='info', description='Progress:', layout=Layout(height='25px', width='50%'),…"
      ]
     },
     "metadata": {},
     "output_type": "display_data"
    },
    {
     "name": "stdout",
     "output_type": "stream",
     "text": [
      "+-------+-------------------+\n",
      "|TP_SEXO|count(NU_INSCRICAO)|\n",
      "+-------+-------------------+\n",
      "|      M|              39551|\n",
      "|      F|              33829|\n",
      "+-------+-------------------+"
     ]
    }
   ],
   "source": [
    "#QUESTÃO 11\n",
    "enem.where(enem.SG_UF_RESIDENCIA==\"RJ\")\\\n",
    ".where(enem.NU_NOTA_MT>600)\\\n",
    ".groupBy(\"TP_SEXO\")\\\n",
    ".agg(func.count(enem.NU_INSCRICAO))\\\n",
    ".show()"
   ]
  },
  {
   "cell_type": "code",
   "execution_count": 60,
   "metadata": {},
   "outputs": [
    {
     "data": {
      "application/vnd.jupyter.widget-view+json": {
       "model_id": "0ead71fae60e47bebad8214f4235fc83",
       "version_major": 2,
       "version_minor": 0
      },
      "text/plain": [
       "VBox()"
      ]
     },
     "metadata": {},
     "output_type": "display_data"
    },
    {
     "data": {
      "application/vnd.jupyter.widget-view+json": {
       "model_id": "",
       "version_major": 2,
       "version_minor": 0
      },
      "text/plain": [
       "FloatProgress(value=0.0, bar_style='info', description='Progress:', layout=Layout(height='25px', width='50%'),…"
      ]
     },
     "metadata": {},
     "output_type": "display_data"
    },
    {
     "name": "stdout",
     "output_type": "stream",
     "text": [
      "+-------------------+\n",
      "|count(NU_INSCRICAO)|\n",
      "+-------------------+\n",
      "|              48109|\n",
      "+-------------------+"
     ]
    }
   ],
   "source": [
    "#QUESTÃO 12\n",
    "enem.where(enem.NO_MUNICIPIO_NASCIMENTO==\"Recife\")\\\n",
    ".where(enem.NO_MUNICIPIO_PROVA==\"Recife\")\\\n",
    ".agg(func.count(enem.NU_INSCRICAO))\\\n",
    ".show()"
   ]
  },
  {
   "cell_type": "code",
   "execution_count": 61,
   "metadata": {},
   "outputs": [
    {
     "data": {
      "application/vnd.jupyter.widget-view+json": {
       "model_id": "0f8fd07c7d664cd9bce5cca467d8adbe",
       "version_major": 2,
       "version_minor": 0
      },
      "text/plain": [
       "VBox()"
      ]
     },
     "metadata": {},
     "output_type": "display_data"
    },
    {
     "data": {
      "application/vnd.jupyter.widget-view+json": {
       "model_id": "",
       "version_major": 2,
       "version_minor": 0
      },
      "text/plain": [
       "FloatProgress(value=0.0, bar_style='info', description='Progress:', layout=Layout(height='25px', width='50%'),…"
      ]
     },
     "metadata": {},
     "output_type": "display_data"
    },
    {
     "name": "stdout",
     "output_type": "stream",
     "text": [
      "+-------------------+\n",
      "|count(NU_INSCRICAO)|\n",
      "+-------------------+\n",
      "|                 34|\n",
      "+-------------------+"
     ]
    }
   ],
   "source": [
    "#QUESTÃO 13\n",
    "enem.where(enem.SG_UF_RESIDENCIA==\"SP\")\\\n",
    ".where(enem.IN_GESTANTE==1)\\\n",
    ".where(enem.TP_PRESENCA_CH>0)\\\n",
    ".agg(func.count(enem.NU_INSCRICAO))\\\n",
    ".show()"
   ]
  },
  {
   "cell_type": "code",
   "execution_count": 64,
   "metadata": {},
   "outputs": [
    {
     "data": {
      "application/vnd.jupyter.widget-view+json": {
       "model_id": "827863659363489885c0cb251390405d",
       "version_major": 2,
       "version_minor": 0
      },
      "text/plain": [
       "VBox()"
      ]
     },
     "metadata": {},
     "output_type": "display_data"
    },
    {
     "data": {
      "application/vnd.jupyter.widget-view+json": {
       "model_id": "",
       "version_major": 2,
       "version_minor": 0
      },
      "text/plain": [
       "FloatProgress(value=0.0, bar_style='info', description='Progress:', layout=Layout(height='25px', width='50%'),…"
      ]
     },
     "metadata": {},
     "output_type": "display_data"
    },
    {
     "name": "stdout",
     "output_type": "stream",
     "text": [
      "+----------------+------------------+\n",
      "|SG_UF_RESIDENCIA|   avg(NU_NOTA_CH)|\n",
      "+----------------+------------------+\n",
      "|              MS| 477.5548387096773|\n",
      "|              CE|488.18518518518516|\n",
      "|              MG|501.66639344262296|\n",
      "|              DF|495.02888888888884|\n",
      "|              RO| 481.2199999999999|\n",
      "|              AM|476.90000000000003|\n",
      "|              MT| 481.9151162790697|\n",
      "|              SP|507.18110137672085|\n",
      "|              PB| 490.1039800995025|\n",
      "|              BA| 480.6291105121294|\n",
      "|              SE|494.05370370370366|\n",
      "|              RJ|499.41424332344207|\n",
      "|              AC|  491.749295774648|\n",
      "|              PR|500.96594594594603|\n",
      "|              AP| 480.6571428571428|\n",
      "|              RR|  482.335294117647|\n",
      "|              TO|493.66976744186053|\n",
      "|              ES| 485.8924528301887|\n",
      "|              AL| 474.3533333333333|\n",
      "|              RN| 499.5725609756098|\n",
      "|              SC| 503.0277777777777|\n",
      "|              PI| 493.4563492063493|\n",
      "|              GO|503.40702702702714|\n",
      "|              RS|504.60381355932196|\n",
      "|              PA| 474.0312320916906|\n",
      "|              PE| 491.8772388059702|\n",
      "|              MA| 479.9321138211382|\n",
      "+----------------+------------------+"
     ]
    }
   ],
   "source": [
    "#QUESTÃO 14\n",
    "enem.where(enem.IN_DEFICIENCIA_FISICA==1)\\\n",
    ".groupBy(\"SG_UF_RESIDENCIA\")\\\n",
    ".agg(func.avg(\"NU_NOTA_CH\"))\\\n",
    ".show(100)"
   ]
  },
  {
   "cell_type": "code",
   "execution_count": 65,
   "metadata": {},
   "outputs": [
    {
     "data": {
      "application/vnd.jupyter.widget-view+json": {
       "model_id": "b2345a6f526c4ca4843f74fda153c95b",
       "version_major": 2,
       "version_minor": 0
      },
      "text/plain": [
       "VBox()"
      ]
     },
     "metadata": {},
     "output_type": "display_data"
    },
    {
     "data": {
      "application/vnd.jupyter.widget-view+json": {
       "model_id": "",
       "version_major": 2,
       "version_minor": 0
      },
      "text/plain": [
       "FloatProgress(value=0.0, bar_style='info', description='Progress:', layout=Layout(height='25px', width='50%'),…"
      ]
     },
     "metadata": {},
     "output_type": "display_data"
    },
    {
     "name": "stdout",
     "output_type": "stream",
     "text": [
      "+-----------------------+---------------+\n",
      "|NO_MUNICIPIO_RESIDENCIA|avg(NU_NOTA_MT)|\n",
      "+-----------------------+---------------+\n",
      "|         Belo Horizonte|          445.5|\n",
      "+-----------------------+---------------+"
     ]
    }
   ],
   "source": [
    "#QUESTÃO 15\n",
    "enem.where(enem.IN_CEGUEIRA==1)\\\n",
    ".where(enem.NO_MUNICIPIO_RESIDENCIA==\"Belo Horizonte\")\\\n",
    ".where(enem.TP_SEXO==\"F\")\\\n",
    ".groupBy(\"NO_MUNICIPIO_RESIDENCIA\")\\\n",
    ".agg(func.avg(\"NU_NOTA_MT\"))\\\n",
    ".show(100)"
   ]
  }
 ],
 "metadata": {
  "kernelspec": {
   "display_name": "Python 3",
   "language": "python",
   "name": "python3"
  },
  "language_info": {
   "codemirror_mode": {
    "name": "ipython",
    "version": 3
   },
   "file_extension": ".py",
   "mimetype": "text/x-python",
   "name": "python",
   "nbconvert_exporter": "python",
   "pygments_lexer": "ipython3",
   "version": "3.7.1"
  }
 },
 "nbformat": 4,
 "nbformat_minor": 5
}
