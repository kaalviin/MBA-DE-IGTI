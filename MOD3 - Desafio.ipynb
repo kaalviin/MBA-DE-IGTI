{
 "cells": [
  {
   "cell_type": "code",
   "execution_count": 1,
   "metadata": {},
   "outputs": [],
   "source": [
    "from pyspark.sql import SparkSession\n",
    "spark = SparkSession.builder.getOrCreate()"
   ]
  },
  {
   "cell_type": "code",
   "execution_count": 2,
   "metadata": {},
   "outputs": [],
   "source": [
    "import pyspark.sql.types as t\n",
    "import pyspark.sql.functions as f"
   ]
  },
  {
   "cell_type": "code",
   "execution_count": 3,
   "metadata": {},
   "outputs": [],
   "source": [
    "schema_mun = 'cod_mun STRING, descricao_mun STRING'\n",
    "schema_cnae = 'cod_cnae STRING, descricao_cnae STRING'"
   ]
  },
  {
   "cell_type": "code",
   "execution_count": 4,
   "metadata": {},
   "outputs": [],
   "source": [
    "df_mun = spark.read.csv('gs://igti-mba-de/MUNICIPIOS.csv', sep=';', encoding='ISO-8859-1', schema=schema_mun, escape=\"\\\"\")\n",
    "df_cnae = spark.read.csv('gs://igti-mba-de/CNAE.csv', sep=';', encoding='ISO-8859-1', schema=schema_cnae, escape=\"\\\"\")"
   ]
  },
  {
   "cell_type": "code",
   "execution_count": 5,
   "metadata": {},
   "outputs": [
    {
     "name": "stderr",
     "output_type": "stream",
     "text": [
      "                                                                                \r"
     ]
    },
    {
     "name": "stdout",
     "output_type": "stream",
     "text": [
      "+-------+--------------------+\n",
      "|cod_mun|       descricao_mun|\n",
      "+-------+--------------------+\n",
      "|   0001|       GUAJARA-MIRIM|\n",
      "|   0002|ALTO ALEGRE DOS P...|\n",
      "|   0003|         PORTO VELHO|\n",
      "|   0004|             BURITIS|\n",
      "|   0005|           JI-PARANA|\n",
      "+-------+--------------------+\n",
      "\n"
     ]
    }
   ],
   "source": [
    "df_mun.limit(5).show()"
   ]
  },
  {
   "cell_type": "code",
   "execution_count": 6,
   "metadata": {},
   "outputs": [
    {
     "name": "stderr",
     "output_type": "stream",
     "text": [
      "\r",
      "[Stage 1:>                                                          (0 + 1) / 1]\r"
     ]
    },
    {
     "name": "stdout",
     "output_type": "stream",
     "text": [
      "+--------+--------------------+\n",
      "|cod_cnae|      descricao_cnae|\n",
      "+--------+--------------------+\n",
      "| 0111301|    Cultivo de arroz|\n",
      "| 0111302|    Cultivo de milho|\n",
      "| 0111303|    Cultivo de trigo|\n",
      "| 0111399|Cultivo de outros...|\n",
      "| 0112101|Cultivo de algodã...|\n",
      "+--------+--------------------+\n",
      "\n"
     ]
    },
    {
     "name": "stderr",
     "output_type": "stream",
     "text": [
      "\r",
      "                                                                                \r"
     ]
    }
   ],
   "source": [
    "df_cnae.limit(5).show()"
   ]
  },
  {
   "cell_type": "code",
   "execution_count": 7,
   "metadata": {},
   "outputs": [
    {
     "name": "stdout",
     "output_type": "stream",
     "text": [
      "root\n",
      " |-- cod_cnae: string (nullable = true)\n",
      " |-- descricao_cnae: string (nullable = true)\n",
      "\n"
     ]
    }
   ],
   "source": [
    "df_cnae.printSchema()"
   ]
  },
  {
   "cell_type": "code",
   "execution_count": 8,
   "metadata": {},
   "outputs": [
    {
     "name": "stdout",
     "output_type": "stream",
     "text": [
      "root\n",
      " |-- cod_mun: string (nullable = true)\n",
      " |-- descricao_mun: string (nullable = true)\n",
      "\n"
     ]
    }
   ],
   "source": [
    "df_mun.printSchema()"
   ]
  },
  {
   "cell_type": "code",
   "execution_count": 9,
   "metadata": {},
   "outputs": [],
   "source": [
    "# QUESTÃO 9\n",
    "\n",
    "cols = ['cnpj', 'cnpj_ordem', 'cnpj_dv', 'id_matriz', 'nome_fantasia',\n",
    "        'situacao_cadastral', 'data_situacao_cadastral', 'motivo_situacao_cadastral', \n",
    "        'nome_cidade', 'cod_pais', 'data_inicio_atividades',\n",
    "        'cnae_primario', 'cnae_secundario', \n",
    "        'tipo_logradouro', 'logradouro', 'numero', 'complemento',\n",
    "        'bairro', 'cep', 'uf', 'cod_mun', \n",
    "        'ddd_1', 'tel_1', 'ddd_2', 'tel_2', 'ddd_fax',\n",
    "        'correio_eletronico', 'situacao_especial', 'data_situacao_especial']\n",
    "\n",
    "\n",
    "schema_estab = t.StructType([t.StructField(c, t.StringType()) for c in cols])\n",
    "\n",
    "df_estab = (\n",
    "    spark.read\n",
    "    .format('csv')\n",
    "    .option('encondig', 'ISO-8859-1')\n",
    "    .option('sep', ';')\n",
    "    .option(\"escape\", \"\\\"\")\n",
    "    .schema(schema_estab)\n",
    "    .load('gs://igti-mba-de/ESTABELECIMENTOS/*')\n",
    ")"
   ]
  },
  {
   "cell_type": "code",
   "execution_count": 10,
   "metadata": {},
   "outputs": [
    {
     "name": "stderr",
     "output_type": "stream",
     "text": [
      "                                                                                \r"
     ]
    },
    {
     "data": {
      "text/html": [
       "<div>\n",
       "<style scoped>\n",
       "    .dataframe tbody tr th:only-of-type {\n",
       "        vertical-align: middle;\n",
       "    }\n",
       "\n",
       "    .dataframe tbody tr th {\n",
       "        vertical-align: top;\n",
       "    }\n",
       "\n",
       "    .dataframe thead th {\n",
       "        text-align: right;\n",
       "    }\n",
       "</style>\n",
       "<table border=\"1\" class=\"dataframe\">\n",
       "  <thead>\n",
       "    <tr style=\"text-align: right;\">\n",
       "      <th></th>\n",
       "      <th>cod_cnae</th>\n",
       "      <th>count</th>\n",
       "    </tr>\n",
       "  </thead>\n",
       "  <tbody>\n",
       "    <tr>\n",
       "      <th>0</th>\n",
       "      <td>4781400</td>\n",
       "      <td>1781558</td>\n",
       "    </tr>\n",
       "    <tr>\n",
       "      <th>1</th>\n",
       "      <td>4772500</td>\n",
       "      <td>1021116</td>\n",
       "    </tr>\n",
       "    <tr>\n",
       "      <th>2</th>\n",
       "      <td>5611203</td>\n",
       "      <td>937293</td>\n",
       "    </tr>\n",
       "    <tr>\n",
       "      <th>3</th>\n",
       "      <td>9602501</td>\n",
       "      <td>893142</td>\n",
       "    </tr>\n",
       "    <tr>\n",
       "      <th>4</th>\n",
       "      <td>4723700</td>\n",
       "      <td>854114</td>\n",
       "    </tr>\n",
       "  </tbody>\n",
       "</table>\n",
       "</div>"
      ],
      "text/plain": [
       "  cod_cnae    count\n",
       "0  4781400  1781558\n",
       "1  4772500  1021116\n",
       "2  5611203   937293\n",
       "3  9602501   893142\n",
       "4  4723700   854114"
      ]
     },
     "execution_count": 10,
     "metadata": {},
     "output_type": "execute_result"
    }
   ],
   "source": [
    "# QUESTÃO 10\n",
    "\n",
    "df_primario = (\n",
    "    df_estab.filter('situacao_cadastral = 02')\n",
    "    .groupby('cnae_primario')\n",
    "    .count()\n",
    "    .withColumnRenamed('cnae_primario', 'cod_cnae')\n",
    "    .orderBy(f.desc('count'))\n",
    ")\n",
    "\n",
    "\n",
    "df_secundario = (\n",
    "    df_estab.filter('situacao_cadastral = 02')\n",
    "    .withColumn('cod_cnae', f.explode(f.split('cnae_secundario', ',')))\n",
    "    .groupby('cod_cnae')\n",
    "    .count()\n",
    "    .orderBy(f.desc('count'))\n",
    ")\n",
    "\n",
    "df_primario.unionByName(df_secundario).groupby('cod_cnae').agg(f.sum('count').alias('count')).orderBy(f.desc('count')).limit(5).toPandas()"
   ]
  },
  {
   "cell_type": "code",
   "execution_count": 11,
   "metadata": {},
   "outputs": [
    {
     "name": "stderr",
     "output_type": "stream",
     "text": [
      "21/09/23 15:30:17 WARN org.apache.spark.sql.catalyst.util.package: Truncated the string representation of a plan since it was too large. This behavior can be adjusted by setting 'spark.sql.debug.maxToStringFields'.\n",
      "                                                                                \r"
     ]
    },
    {
     "data": {
      "text/html": [
       "<div>\n",
       "<style scoped>\n",
       "    .dataframe tbody tr th:only-of-type {\n",
       "        vertical-align: middle;\n",
       "    }\n",
       "\n",
       "    .dataframe tbody tr th {\n",
       "        vertical-align: top;\n",
       "    }\n",
       "\n",
       "    .dataframe thead th {\n",
       "        text-align: right;\n",
       "    }\n",
       "</style>\n",
       "<table border=\"1\" class=\"dataframe\">\n",
       "  <thead>\n",
       "    <tr style=\"text-align: right;\">\n",
       "      <th></th>\n",
       "      <th>cnpj</th>\n",
       "      <th>cnpj_ordem</th>\n",
       "      <th>cnpj_dv</th>\n",
       "      <th>id_matriz</th>\n",
       "      <th>nome_fantasia</th>\n",
       "      <th>situacao_cadastral</th>\n",
       "      <th>data_situacao_cadastral</th>\n",
       "      <th>motivo_situacao_cadastral</th>\n",
       "      <th>nome_cidade</th>\n",
       "      <th>cod_pais</th>\n",
       "      <th>...</th>\n",
       "      <th>uf</th>\n",
       "      <th>cod_mun</th>\n",
       "      <th>ddd_1</th>\n",
       "      <th>tel_1</th>\n",
       "      <th>ddd_2</th>\n",
       "      <th>tel_2</th>\n",
       "      <th>ddd_fax</th>\n",
       "      <th>correio_eletronico</th>\n",
       "      <th>situacao_especial</th>\n",
       "      <th>data_situacao_especial</th>\n",
       "    </tr>\n",
       "  </thead>\n",
       "  <tbody>\n",
       "    <tr>\n",
       "      <th>0</th>\n",
       "      <td>26638409</td>\n",
       "      <td>0001</td>\n",
       "      <td>21</td>\n",
       "      <td>1</td>\n",
       "      <td>CANTINHO DA LILICA</td>\n",
       "      <td>02</td>\n",
       "      <td>20161130</td>\n",
       "      <td>00</td>\n",
       "      <td>None</td>\n",
       "      <td>None</td>\n",
       "      <td>...</td>\n",
       "      <td>MG</td>\n",
       "      <td>5425</td>\n",
       "      <td>31</td>\n",
       "      <td>92667948</td>\n",
       "      <td>None</td>\n",
       "      <td>None</td>\n",
       "      <td>None</td>\n",
       "      <td>None</td>\n",
       "      <td>elissouzap@hotmail.com</td>\n",
       "      <td>None</td>\n",
       "    </tr>\n",
       "    <tr>\n",
       "      <th>1</th>\n",
       "      <td>26638420</td>\n",
       "      <td>0001</td>\n",
       "      <td>91</td>\n",
       "      <td>1</td>\n",
       "      <td>NOBRE MADEIRAS DO BRASIL</td>\n",
       "      <td>04</td>\n",
       "      <td>20210212</td>\n",
       "      <td>63</td>\n",
       "      <td>None</td>\n",
       "      <td>None</td>\n",
       "      <td>...</td>\n",
       "      <td>GO</td>\n",
       "      <td>9373</td>\n",
       "      <td>62</td>\n",
       "      <td>39881414</td>\n",
       "      <td>None</td>\n",
       "      <td>None</td>\n",
       "      <td>None</td>\n",
       "      <td>None</td>\n",
       "      <td>fmix.contabilidade@gmail.com</td>\n",
       "      <td>None</td>\n",
       "    </tr>\n",
       "    <tr>\n",
       "      <th>2</th>\n",
       "      <td>26638434</td>\n",
       "      <td>0001</td>\n",
       "      <td>05</td>\n",
       "      <td>1</td>\n",
       "      <td>TECNODONTOMEDICAL</td>\n",
       "      <td>08</td>\n",
       "      <td>20161216</td>\n",
       "      <td>01</td>\n",
       "      <td>None</td>\n",
       "      <td>None</td>\n",
       "      <td>...</td>\n",
       "      <td>SE</td>\n",
       "      <td>3105</td>\n",
       "      <td>79</td>\n",
       "      <td>98704380</td>\n",
       "      <td>None</td>\n",
       "      <td>None</td>\n",
       "      <td>None</td>\n",
       "      <td>None</td>\n",
       "      <td>alex28ndre@gmail.com</td>\n",
       "      <td>None</td>\n",
       "    </tr>\n",
       "    <tr>\n",
       "      <th>3</th>\n",
       "      <td>26638446</td>\n",
       "      <td>0001</td>\n",
       "      <td>30</td>\n",
       "      <td>1</td>\n",
       "      <td>None</td>\n",
       "      <td>04</td>\n",
       "      <td>20210303</td>\n",
       "      <td>63</td>\n",
       "      <td>None</td>\n",
       "      <td>None</td>\n",
       "      <td>...</td>\n",
       "      <td>MA</td>\n",
       "      <td>0849</td>\n",
       "      <td>98</td>\n",
       "      <td>32649607</td>\n",
       "      <td>None</td>\n",
       "      <td>None</td>\n",
       "      <td>None</td>\n",
       "      <td>None</td>\n",
       "      <td>None</td>\n",
       "      <td>None</td>\n",
       "    </tr>\n",
       "    <tr>\n",
       "      <th>4</th>\n",
       "      <td>26638459</td>\n",
       "      <td>0001</td>\n",
       "      <td>09</td>\n",
       "      <td>1</td>\n",
       "      <td>None</td>\n",
       "      <td>02</td>\n",
       "      <td>20161130</td>\n",
       "      <td>00</td>\n",
       "      <td>None</td>\n",
       "      <td>None</td>\n",
       "      <td>...</td>\n",
       "      <td>SP</td>\n",
       "      <td>7107</td>\n",
       "      <td>11</td>\n",
       "      <td>99999999</td>\n",
       "      <td>None</td>\n",
       "      <td>None</td>\n",
       "      <td>None</td>\n",
       "      <td>None</td>\n",
       "      <td>None</td>\n",
       "      <td>None</td>\n",
       "    </tr>\n",
       "  </tbody>\n",
       "</table>\n",
       "<p>5 rows × 29 columns</p>\n",
       "</div>"
      ],
      "text/plain": [
       "       cnpj cnpj_ordem cnpj_dv id_matriz             nome_fantasia  \\\n",
       "0  26638409       0001      21         1        CANTINHO DA LILICA   \n",
       "1  26638420       0001      91         1  NOBRE MADEIRAS DO BRASIL   \n",
       "2  26638434       0001      05         1         TECNODONTOMEDICAL   \n",
       "3  26638446       0001      30         1                      None   \n",
       "4  26638459       0001      09         1                      None   \n",
       "\n",
       "  situacao_cadastral data_situacao_cadastral motivo_situacao_cadastral  \\\n",
       "0                 02                20161130                        00   \n",
       "1                 04                20210212                        63   \n",
       "2                 08                20161216                        01   \n",
       "3                 04                20210303                        63   \n",
       "4                 02                20161130                        00   \n",
       "\n",
       "  nome_cidade cod_pais  ...  uf cod_mun ddd_1     tel_1 ddd_2 tel_2 ddd_fax  \\\n",
       "0        None     None  ...  MG    5425    31  92667948  None  None    None   \n",
       "1        None     None  ...  GO    9373    62  39881414  None  None    None   \n",
       "2        None     None  ...  SE    3105    79  98704380  None  None    None   \n",
       "3        None     None  ...  MA    0849    98  32649607  None  None    None   \n",
       "4        None     None  ...  SP    7107    11  99999999  None  None    None   \n",
       "\n",
       "  correio_eletronico             situacao_especial data_situacao_especial  \n",
       "0               None        elissouzap@hotmail.com                   None  \n",
       "1               None  fmix.contabilidade@gmail.com                   None  \n",
       "2               None          alex28ndre@gmail.com                   None  \n",
       "3               None                          None                   None  \n",
       "4               None                          None                   None  \n",
       "\n",
       "[5 rows x 29 columns]"
      ]
     },
     "execution_count": 11,
     "metadata": {},
     "output_type": "execute_result"
    }
   ],
   "source": [
    "# QUESTÃO 11\n",
    "\n",
    "df_estab.withColumn('data_inicio_atividades', f.to_date(f.col('data_inicio_atividades'), 'yyyyMMdd')).limit(5).toPandas()"
   ]
  },
  {
   "cell_type": "code",
   "execution_count": 12,
   "metadata": {},
   "outputs": [
    {
     "name": "stderr",
     "output_type": "stream",
     "text": [
      "                                                                                \r"
     ]
    },
    {
     "data": {
      "text/plain": [
       "7966472"
      ]
     },
     "execution_count": 12,
     "metadata": {},
     "output_type": "execute_result"
    }
   ],
   "source": [
    "# QUESTÃO 12\n",
    "\n",
    "df_estab.filter('uf = \"SP\" and situacao_cadastral != \"02\"').count()"
   ]
  },
  {
   "cell_type": "code",
   "execution_count": 13,
   "metadata": {},
   "outputs": [
    {
     "name": "stderr",
     "output_type": "stream",
     "text": [
      "                                                                                \r"
     ]
    },
    {
     "data": {
      "text/plain": [
       "6930"
      ]
     },
     "execution_count": 13,
     "metadata": {},
     "output_type": "execute_result"
    }
   ],
   "source": [
    "# QUESTÃO 13\n",
    "\n",
    "df_estab.join(df_mun, 'cod_mun')\\\n",
    ".filter('initcap(descricao_mun) = \"Belo Horizonte\"')\\\n",
    ".filter('(cnae_primario = \"6204000\" or cnae_secundario like \"%6204000%\")')\\\n",
    ".count()"
   ]
  },
  {
   "cell_type": "code",
   "execution_count": 14,
   "metadata": {},
   "outputs": [
    {
     "name": "stderr",
     "output_type": "stream",
     "text": [
      "[Stage 37:>                                                         (0 + 1) / 1]\r"
     ]
    },
    {
     "name": "stdout",
     "output_type": "stream",
     "text": [
      "+-------------+-------------+\n",
      "|nome_fantasia|cnae_primario|\n",
      "+-------------+-------------+\n",
      "|         IGTI|      8532500|\n",
      "+-------------+-------------+\n",
      "\n"
     ]
    },
    {
     "name": "stderr",
     "output_type": "stream",
     "text": [
      "\r",
      "                                                                                \r"
     ]
    }
   ],
   "source": [
    "# QUESTÃO 14\n",
    "\n",
    "df_estab.join(df_mun, 'cod_mun').select('nome_fantasia', 'cnae_primario').filter('nome_fantasia like \"%IGTI%\" and cod_mun = 4123').show(1)"
   ]
  },
  {
   "cell_type": "code",
   "execution_count": 16,
   "metadata": {},
   "outputs": [
    {
     "name": "stderr",
     "output_type": "stream",
     "text": [
      "                                                                                \r"
     ]
    },
    {
     "data": {
      "text/plain": [
       "6314456"
      ]
     },
     "execution_count": 16,
     "metadata": {},
     "output_type": "execute_result"
    }
   ],
   "source": [
    "# QUESTÃO 15\n",
    "\n",
    "df_estab.withColumn('data_inicio_atividades', f.to_date(f.col('data_inicio_atividades'), 'yyyyMMdd')).filter(\"data_inicio_atividades > date'2019-12-31'\").count()"
   ]
  },
  {
   "cell_type": "code",
   "execution_count": null,
   "metadata": {},
   "outputs": [],
   "source": []
  }
 ],
 "metadata": {
  "kernelspec": {
   "display_name": "Python 3",
   "language": "python",
   "name": "python3"
  },
  "language_info": {
   "codemirror_mode": {
    "name": "ipython",
    "version": 3
   },
   "file_extension": ".py",
   "mimetype": "text/x-python",
   "name": "python",
   "nbconvert_exporter": "python",
   "pygments_lexer": "ipython3",
   "version": "3.7.1"
  }
 },
 "nbformat": 4,
 "nbformat_minor": 5
}
